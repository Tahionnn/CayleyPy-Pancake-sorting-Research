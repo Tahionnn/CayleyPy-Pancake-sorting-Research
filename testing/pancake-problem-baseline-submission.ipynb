{
 "cells": [
  {
   "cell_type": "markdown",
   "id": "36c12d5d",
   "metadata": {
    "papermill": {
     "duration": 0.002877,
     "end_time": "2025-09-19T10:32:05.129018",
     "exception": false,
     "start_time": "2025-09-19T10:32:05.126141",
     "status": "completed"
    },
    "tags": []
   },
   "source": [
    "# Pancake Problem: Baseline Submission\n",
    "\n",
    "This notebook demonstrates a simple pancake-sort baseline that generates a Kaggle submission.\n",
    "Moves use the prefix-reversal notation `Rk`, where `Rk` flips the first `k` elements of a state."
   ]
  },
  {
   "cell_type": "code",
   "execution_count": 1,
   "id": "91ecb468",
   "metadata": {
    "ExecuteTime": {
     "end_time": "2025-09-19T10:16:08.416506Z",
     "start_time": "2025-09-19T10:16:07.217558Z"
    },
    "execution": {
     "iopub.execute_input": "2025-09-19T10:32:05.135448Z",
     "iopub.status.busy": "2025-09-19T10:32:05.135131Z",
     "iopub.status.idle": "2025-09-19T10:32:07.005241Z",
     "shell.execute_reply": "2025-09-19T10:32:07.003966Z"
    },
    "papermill": {
     "duration": 1.875337,
     "end_time": "2025-09-19T10:32:07.007126",
     "exception": false,
     "start_time": "2025-09-19T10:32:05.131789",
     "status": "completed"
    },
    "tags": []
   },
   "outputs": [],
   "source": [
    "from __future__ import annotations\n",
    "\n",
    "import pandas as pd\n",
    "from pathlib import Path\n",
    "from typing import Iterable"
   ]
  },
  {
   "cell_type": "code",
   "execution_count": 2,
   "id": "540db10b",
   "metadata": {
    "ExecuteTime": {
     "end_time": "2025-09-19T10:16:08.431642Z",
     "start_time": "2025-09-19T10:16:08.427210Z"
    },
    "execution": {
     "iopub.execute_input": "2025-09-19T10:32:07.013540Z",
     "iopub.status.busy": "2025-09-19T10:32:07.013074Z",
     "iopub.status.idle": "2025-09-19T10:32:07.020784Z",
     "shell.execute_reply": "2025-09-19T10:32:07.020002Z"
    },
    "papermill": {
     "duration": 0.012644,
     "end_time": "2025-09-19T10:32:07.022416",
     "exception": false,
     "start_time": "2025-09-19T10:32:07.009772",
     "status": "completed"
    },
    "tags": []
   },
   "outputs": [
    {
     "data": {
      "text/plain": [
       "PosixPath('/kaggle/input/pancake-sorting/test.csv')"
      ]
     },
     "execution_count": 2,
     "metadata": {},
     "output_type": "execute_result"
    }
   ],
   "source": [
    "# Detect Kaggle environment ( /kaggle/input/... ), otherwise fall back to local repo layout.\n",
    "DATA_ROOT = Path('/kaggle/input/pancake-sorting')\n",
    "if not DATA_ROOT.exists():\n",
    "    DATA_ROOT = Path('pancake-sorting')\n",
    "assert DATA_ROOT.exists(), f'Dataset directory not found: {DATA_ROOT!s}'\n",
    "\n",
    "TEST_PATH = DATA_ROOT / 'test.csv'\n",
    "SUBMISSION_PATH = Path('submission.csv')  # Kaggle expects this in the working directory\n",
    "TEST_PATH"
   ]
  },
  {
   "cell_type": "code",
   "execution_count": 3,
   "id": "9ea92f77",
   "metadata": {
    "ExecuteTime": {
     "end_time": "2025-09-19T10:16:18.981275Z",
     "start_time": "2025-09-19T10:16:18.977802Z"
    },
    "execution": {
     "iopub.execute_input": "2025-09-19T10:32:07.028611Z",
     "iopub.status.busy": "2025-09-19T10:32:07.028290Z",
     "iopub.status.idle": "2025-09-19T10:32:07.033762Z",
     "shell.execute_reply": "2025-09-19T10:32:07.032593Z"
    },
    "papermill": {
     "duration": 0.010294,
     "end_time": "2025-09-19T10:32:07.035374",
     "exception": false,
     "start_time": "2025-09-19T10:32:07.025080",
     "status": "completed"
    },
    "tags": []
   },
   "outputs": [],
   "source": [
    "def parse_permutation(raw: str) -> list[int]:\n",
    "    \"\"\"Parse a comma-separated permutation string into integer positions.\"\"\"\n",
    "    return [int(token) for token in raw.split(',') if token]"
   ]
  },
  {
   "cell_type": "code",
   "execution_count": 4,
   "id": "8d88990e",
   "metadata": {
    "ExecuteTime": {
     "end_time": "2025-09-19T10:16:19.817652Z",
     "start_time": "2025-09-19T10:16:19.813767Z"
    },
    "execution": {
     "iopub.execute_input": "2025-09-19T10:32:07.041673Z",
     "iopub.status.busy": "2025-09-19T10:32:07.041352Z",
     "iopub.status.idle": "2025-09-19T10:32:07.047790Z",
     "shell.execute_reply": "2025-09-19T10:32:07.046904Z"
    },
    "papermill": {
     "duration": 0.011467,
     "end_time": "2025-09-19T10:32:07.049560",
     "exception": false,
     "start_time": "2025-09-19T10:32:07.038093",
     "status": "completed"
    },
    "tags": []
   },
   "outputs": [],
   "source": [
    "def pancake_sort_path(perm: Iterable[int]) -> list[str]:\n",
    "    \"\"\"Return a sequence of prefix reversals that sorts `perm` to the identity permutation.\"\"\"\n",
    "    arr = list(perm)\n",
    "    n = len(arr)\n",
    "    moves: list[str] = []\n",
    "\n",
    "    for target in range(n, 1, -1):\n",
    "        desired_value = target - 1\n",
    "        idx = arr.index(desired_value)\n",
    "\n",
    "        if idx == target - 1:\n",
    "            continue  # already in place\n",
    "\n",
    "        if idx != 0:\n",
    "            moves.append(f'R{idx + 1}')\n",
    "            arr[: idx + 1] = reversed(arr[: idx + 1])\n",
    "\n",
    "        moves.append(f'R{target}')\n",
    "        arr[:target] = reversed(arr[:target])\n",
    "\n",
    "    return moves"
   ]
  },
  {
   "cell_type": "code",
   "execution_count": 5,
   "id": "693d3b17",
   "metadata": {
    "ExecuteTime": {
     "end_time": "2025-09-19T10:16:21.524463Z",
     "start_time": "2025-09-19T10:16:21.401805Z"
    },
    "execution": {
     "iopub.execute_input": "2025-09-19T10:32:07.055880Z",
     "iopub.status.busy": "2025-09-19T10:32:07.055565Z",
     "iopub.status.idle": "2025-09-19T10:32:07.294972Z",
     "shell.execute_reply": "2025-09-19T10:32:07.294001Z"
    },
    "papermill": {
     "duration": 0.244391,
     "end_time": "2025-09-19T10:32:07.296606",
     "exception": false,
     "start_time": "2025-09-19T10:32:07.052215",
     "status": "completed"
    },
    "tags": []
   },
   "outputs": [
    {
     "data": {
      "text/html": [
       "<div>\n",
       "<style scoped>\n",
       "    .dataframe tbody tr th:only-of-type {\n",
       "        vertical-align: middle;\n",
       "    }\n",
       "\n",
       "    .dataframe tbody tr th {\n",
       "        vertical-align: top;\n",
       "    }\n",
       "\n",
       "    .dataframe thead th {\n",
       "        text-align: right;\n",
       "    }\n",
       "</style>\n",
       "<table border=\"1\" class=\"dataframe\">\n",
       "  <thead>\n",
       "    <tr style=\"text-align: right;\">\n",
       "      <th></th>\n",
       "      <th>id</th>\n",
       "      <th>permutation</th>\n",
       "      <th>solution</th>\n",
       "    </tr>\n",
       "  </thead>\n",
       "  <tbody>\n",
       "    <tr>\n",
       "      <th>0</th>\n",
       "      <td>0</td>\n",
       "      <td>3,2,0,1,4</td>\n",
       "      <td>R4.R2</td>\n",
       "    </tr>\n",
       "    <tr>\n",
       "      <th>1</th>\n",
       "      <td>1</td>\n",
       "      <td>4,2,3,1,0</td>\n",
       "      <td>R5.R3.R4.R3.R2</td>\n",
       "    </tr>\n",
       "    <tr>\n",
       "      <th>2</th>\n",
       "      <td>2</td>\n",
       "      <td>3,1,2,0,4</td>\n",
       "      <td>R4.R2.R3.R2</td>\n",
       "    </tr>\n",
       "    <tr>\n",
       "      <th>3</th>\n",
       "      <td>3</td>\n",
       "      <td>1,2,0,3,4</td>\n",
       "      <td>R2.R3</td>\n",
       "    </tr>\n",
       "    <tr>\n",
       "      <th>4</th>\n",
       "      <td>4</td>\n",
       "      <td>3,0,4,2,1</td>\n",
       "      <td>R3.R5.R3.R4</td>\n",
       "    </tr>\n",
       "  </tbody>\n",
       "</table>\n",
       "</div>"
      ],
      "text/plain": [
       "   id permutation        solution\n",
       "0   0   3,2,0,1,4           R4.R2\n",
       "1   1   4,2,3,1,0  R5.R3.R4.R3.R2\n",
       "2   2   3,1,2,0,4     R4.R2.R3.R2\n",
       "3   3   1,2,0,3,4           R2.R3\n",
       "4   4   3,0,4,2,1     R3.R5.R3.R4"
      ]
     },
     "execution_count": 5,
     "metadata": {},
     "output_type": "execute_result"
    }
   ],
   "source": [
    "test_df = pd.read_csv(TEST_PATH)\n",
    "submission_rows: list[dict[str, str]] = []\n",
    "\n",
    "for row in test_df.itertuples(index=False):\n",
    "    perm = parse_permutation(row.permutation)\n",
    "    moves = pancake_sort_path(perm)\n",
    "    path_str = '.'.join(moves) if moves else 'UNSOLVED'\n",
    "    submission_rows.append({'id': row.id, 'permutation': row.permutation, 'solution': path_str})\n",
    "\n",
    "submission_df = pd.DataFrame(submission_rows).sort_values('id').reset_index(drop=True)\n",
    "submission_df.head()"
   ]
  },
  {
   "cell_type": "code",
   "execution_count": 6,
   "id": "f3c4b39c",
   "metadata": {
    "ExecuteTime": {
     "end_time": "2025-09-19T10:16:25.595831Z",
     "start_time": "2025-09-19T10:16:25.567924Z"
    },
    "execution": {
     "iopub.execute_input": "2025-09-19T10:32:07.303028Z",
     "iopub.status.busy": "2025-09-19T10:32:07.302732Z",
     "iopub.status.idle": "2025-09-19T10:32:07.342355Z",
     "shell.execute_reply": "2025-09-19T10:32:07.341532Z"
    },
    "papermill": {
     "duration": 0.044768,
     "end_time": "2025-09-19T10:32:07.344055",
     "exception": false,
     "start_time": "2025-09-19T10:32:07.299287",
     "status": "completed"
    },
    "tags": []
   },
   "outputs": [
    {
     "data": {
      "text/plain": [
       "(PosixPath('submission.csv'), 2405)"
      ]
     },
     "execution_count": 6,
     "metadata": {},
     "output_type": "execute_result"
    }
   ],
   "source": [
    "submission_df.to_csv(SUBMISSION_PATH, index=False)\n",
    "SUBMISSION_PATH, len(submission_df)"
   ]
  },
  {
   "cell_type": "code",
   "execution_count": 7,
   "id": "6dc62858",
   "metadata": {
    "ExecuteTime": {
     "end_time": "2025-09-19T10:16:31.983302Z",
     "start_time": "2025-09-19T10:16:31.970729Z"
    },
    "execution": {
     "iopub.execute_input": "2025-09-19T10:32:07.350640Z",
     "iopub.status.busy": "2025-09-19T10:32:07.350323Z",
     "iopub.status.idle": "2025-09-19T10:32:07.366315Z",
     "shell.execute_reply": "2025-09-19T10:32:07.365436Z"
    },
    "papermill": {
     "duration": 0.020792,
     "end_time": "2025-09-19T10:32:07.367708",
     "exception": false,
     "start_time": "2025-09-19T10:32:07.346916",
     "status": "completed"
    },
    "tags": []
   },
   "outputs": [
    {
     "data": {
      "text/html": [
       "<div>\n",
       "<style scoped>\n",
       "    .dataframe tbody tr th:only-of-type {\n",
       "        vertical-align: middle;\n",
       "    }\n",
       "\n",
       "    .dataframe tbody tr th {\n",
       "        vertical-align: top;\n",
       "    }\n",
       "\n",
       "    .dataframe thead th {\n",
       "        text-align: right;\n",
       "    }\n",
       "</style>\n",
       "<table border=\"1\" class=\"dataframe\">\n",
       "  <thead>\n",
       "    <tr style=\"text-align: right;\">\n",
       "      <th></th>\n",
       "      <th>id</th>\n",
       "      <th>permutation</th>\n",
       "      <th>solution</th>\n",
       "    </tr>\n",
       "  </thead>\n",
       "  <tbody>\n",
       "    <tr>\n",
       "      <th>2010</th>\n",
       "      <td>2010</td>\n",
       "      <td>43,53,36,54,39,29,52,61,70,33,71,6,8,64,26,38,...</td>\n",
       "      <td>R27.R75.R30.R74.R47.R73.R42.R72.R29.R71.R15.R7...</td>\n",
       "    </tr>\n",
       "    <tr>\n",
       "      <th>2286</th>\n",
       "      <td>2286</td>\n",
       "      <td>1,77,94,0,68,67,12,95,62,99,15,42,57,31,34,86,...</td>\n",
       "      <td>R10.R100.R81.R99.R52.R98.R10.R97.R50.R96.R91.R...</td>\n",
       "    </tr>\n",
       "    <tr>\n",
       "      <th>2100</th>\n",
       "      <td>2100</td>\n",
       "      <td>30,45,2,15,28,47,61,59,17,4,60,51,5,16,73,38,3...</td>\n",
       "      <td>R52.R75.R38.R74.R54.R73.R40.R72.R16.R71.R52.R7...</td>\n",
       "    </tr>\n",
       "    <tr>\n",
       "      <th>2090</th>\n",
       "      <td>2090</td>\n",
       "      <td>67,40,71,65,60,58,0,11,69,17,30,25,48,13,59,15...</td>\n",
       "      <td>R59.R75.R6.R74.R6.R73.R18.R72.R71.R23.R70.R3.R...</td>\n",
       "    </tr>\n",
       "    <tr>\n",
       "      <th>1070</th>\n",
       "      <td>1070</td>\n",
       "      <td>7,16,25,29,6,18,11,3,24,13,0,2,9,1,26,4,10,21,...</td>\n",
       "      <td>R4.R30.R9.R29.R25.R28.R17.R27.R14.R26.R6.R25.R...</td>\n",
       "    </tr>\n",
       "  </tbody>\n",
       "</table>\n",
       "</div>"
      ],
      "text/plain": [
       "        id                                        permutation  \\\n",
       "2010  2010  43,53,36,54,39,29,52,61,70,33,71,6,8,64,26,38,...   \n",
       "2286  2286  1,77,94,0,68,67,12,95,62,99,15,42,57,31,34,86,...   \n",
       "2100  2100  30,45,2,15,28,47,61,59,17,4,60,51,5,16,73,38,3...   \n",
       "2090  2090  67,40,71,65,60,58,0,11,69,17,30,25,48,13,59,15...   \n",
       "1070  1070  7,16,25,29,6,18,11,3,24,13,0,2,9,1,26,4,10,21,...   \n",
       "\n",
       "                                               solution  \n",
       "2010  R27.R75.R30.R74.R47.R73.R42.R72.R29.R71.R15.R7...  \n",
       "2286  R10.R100.R81.R99.R52.R98.R10.R97.R50.R96.R91.R...  \n",
       "2100  R52.R75.R38.R74.R54.R73.R40.R72.R16.R71.R52.R7...  \n",
       "2090  R59.R75.R6.R74.R6.R73.R18.R72.R71.R23.R70.R3.R...  \n",
       "1070  R4.R30.R9.R29.R25.R28.R17.R27.R14.R26.R6.R25.R...  "
      ]
     },
     "execution_count": 7,
     "metadata": {},
     "output_type": "execute_result"
    }
   ],
   "source": [
    "submission_df.sample(5, random_state=0)"
   ]
  }
 ],
 "metadata": {
  "kaggle": {
   "accelerator": "none",
   "dataSources": [
    {
     "databundleVersionId": 13789744,
     "sourceId": 115576,
     "sourceType": "competition"
    }
   ],
   "dockerImageVersionId": 31089,
   "isGpuEnabled": false,
   "isInternetEnabled": true,
   "language": "python",
   "sourceType": "notebook"
  },
  "kernelspec": {
   "display_name": "Python 3",
   "language": "python",
   "name": "python3"
  },
  "language_info": {
   "codemirror_mode": {
    "name": "ipython",
    "version": 3
   },
   "file_extension": ".py",
   "mimetype": "text/x-python",
   "name": "python",
   "nbconvert_exporter": "python",
   "pygments_lexer": "ipython3",
   "version": "3.11.13"
  },
  "papermill": {
   "default_parameters": {},
   "duration": 8.379807,
   "end_time": "2025-09-19T10:32:07.890090",
   "environment_variables": {},
   "exception": null,
   "input_path": "__notebook__.ipynb",
   "output_path": "__notebook__.ipynb",
   "parameters": {},
   "start_time": "2025-09-19T10:31:59.510283",
   "version": "2.6.0"
  }
 },
 "nbformat": 4,
 "nbformat_minor": 5
}
