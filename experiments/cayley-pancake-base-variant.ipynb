{
 "cells": [
  {
   "cell_type": "markdown",
   "metadata": {},
   "source": [
    "# Pancake sorting baseline"
   ]
  },
  {
   "cell_type": "code",
   "execution_count": 1,
   "metadata": {
    "_cell_guid": "b1076dfc-b9ad-4769-8c92-a6c4dae69d19",
    "_uuid": "8f2839f25d086af736a60e9eeb907d3b93b6e0e5",
    "execution": {
     "iopub.execute_input": "2025-10-24T14:06:04.222492Z",
     "iopub.status.busy": "2025-10-24T14:06:04.222164Z",
     "iopub.status.idle": "2025-10-24T14:07:38.818219Z",
     "shell.execute_reply": "2025-10-24T14:07:38.817026Z",
     "shell.execute_reply.started": "2025-10-24T14:06:04.222463Z"
    },
    "trusted": true
   },
   "outputs": [
    {
     "name": "stdout",
     "output_type": "stream",
     "text": [
      "  Installing build dependencies ... \u001b[?25l\u001b[?25hdone\n",
      "  Getting requirements to build wheel ... \u001b[?25l\u001b[?25hdone\n",
      "  Preparing metadata (pyproject.toml) ... \u001b[?25l\u001b[?25hdone\n",
      "\u001b[2K   \u001b[90m━━━━━━━━━━━━━━━━━━━━━━━━━━━━━━━━━━━━━━━━\u001b[0m \u001b[32m363.4/363.4 MB\u001b[0m \u001b[31m4.2 MB/s\u001b[0m eta \u001b[36m0:00:00\u001b[0m:00:01\u001b[0m00:01\u001b[0m\n",
      "\u001b[2K   \u001b[90m━━━━━━━━━━━━━━━━━━━━━━━━━━━━━━━━━━━━━━━━\u001b[0m \u001b[32m13.8/13.8 MB\u001b[0m \u001b[31m82.3 MB/s\u001b[0m eta \u001b[36m0:00:00\u001b[0m:00:01\u001b[0m0:01\u001b[0m\n",
      "\u001b[2K   \u001b[90m━━━━━━━━━━━━━━━━━━━━━━━━━━━━━━━━━━━━━━━━\u001b[0m \u001b[32m24.6/24.6 MB\u001b[0m \u001b[31m63.7 MB/s\u001b[0m eta \u001b[36m0:00:00\u001b[0m:00:01\u001b[0m00:01\u001b[0m\n",
      "\u001b[2K   \u001b[90m━━━━━━━━━━━━━━━━━━━━━━━━━━━━━━━━━━━━━━━━\u001b[0m \u001b[32m883.7/883.7 kB\u001b[0m \u001b[31m33.9 MB/s\u001b[0m eta \u001b[36m0:00:00\u001b[0m\n",
      "\u001b[2K   \u001b[90m━━━━━━━━━━━━━━━━━━━━━━━━━━━━━━━━━━━━━━━━\u001b[0m \u001b[32m664.8/664.8 MB\u001b[0m \u001b[31m2.2 MB/s\u001b[0m eta \u001b[36m0:00:00\u001b[0m:00:01\u001b[0m00:01\u001b[0m\n",
      "\u001b[2K   \u001b[90m━━━━━━━━━━━━━━━━━━━━━━━━━━━━━━━━━━━━━━━━\u001b[0m \u001b[32m211.5/211.5 MB\u001b[0m \u001b[31m5.4 MB/s\u001b[0m eta \u001b[36m0:00:00\u001b[0m:00:01\u001b[0m00:01\u001b[0m\n",
      "\u001b[2K   \u001b[90m━━━━━━━━━━━━━━━━━━━━━━━━━━━━━━━━━━━━━━━━\u001b[0m \u001b[32m56.3/56.3 MB\u001b[0m \u001b[31m27.6 MB/s\u001b[0m eta \u001b[36m0:00:00\u001b[0m:00:01\u001b[0m00:01\u001b[0m\n",
      "\u001b[2K   \u001b[90m━━━━━━━━━━━━━━━━━━━━━━━━━━━━━━━━━━━━━━━━\u001b[0m \u001b[32m127.9/127.9 MB\u001b[0m \u001b[31m8.9 MB/s\u001b[0m eta \u001b[36m0:00:00\u001b[0m:00:01\u001b[0m00:01\u001b[0m\n",
      "\u001b[2K   \u001b[90m━━━━━━━━━━━━━━━━━━━━━━━━━━━━━━━━━━━━━━━━\u001b[0m \u001b[32m207.5/207.5 MB\u001b[0m \u001b[31m2.6 MB/s\u001b[0m eta \u001b[36m0:00:00\u001b[0m:00:01\u001b[0m00:01\u001b[0m\n",
      "\u001b[2K   \u001b[90m━━━━━━━━━━━━━━━━━━━━━━━━━━━━━━━━━━━━━━━━\u001b[0m \u001b[32m21.1/21.1 MB\u001b[0m \u001b[31m72.2 MB/s\u001b[0m eta \u001b[36m0:00:00\u001b[0m:00:01\u001b[0m00:01\u001b[0m\n",
      "\u001b[?25h  Building wheel for cayleypy (pyproject.toml) ... \u001b[?25l\u001b[?25hdone\n",
      "\u001b[31mERROR: pip's dependency resolver does not currently take into account all the packages that are installed. This behaviour is the source of the following dependency conflicts.\n",
      "libcugraph-cu12 25.6.0 requires libraft-cu12==25.6.*, but you have libraft-cu12 25.2.0 which is incompatible.\n",
      "pylibcugraph-cu12 25.6.0 requires pylibraft-cu12==25.6.*, but you have pylibraft-cu12 25.2.0 which is incompatible.\n",
      "pylibcugraph-cu12 25.6.0 requires rmm-cu12==25.6.*, but you have rmm-cu12 25.2.0 which is incompatible.\u001b[0m\u001b[31m\n",
      "\u001b[0m"
     ]
    }
   ],
   "source": [
    "!pip install git+https://github.com/cayleypy/cayleypy -q"
   ]
  },
  {
   "cell_type": "code",
   "execution_count": null,
   "metadata": {},
   "outputs": [],
   "source": [
    "import random\n",
    "import numpy as np\n",
    "import pandas as pd\n",
    "\n",
    "import torch\n",
    "from torch import nn\n",
    "\n",
    "from cayleypy import CayleyGraph, PermutationGroups, Predictor\n",
    "from cayleypy.algo import RandomWalksGenerator\n",
    "from torch.utils.data import TensorDataset, DataLoader\n",
    "from tqdm import tqdm"
   ]
  },
  {
   "cell_type": "code",
   "execution_count": null,
   "metadata": {
    "execution": {
     "iopub.execute_input": "2025-10-24T14:07:38.820766Z",
     "iopub.status.busy": "2025-10-24T14:07:38.820479Z",
     "iopub.status.idle": "2025-10-24T14:07:39.198194Z",
     "shell.execute_reply": "2025-10-24T14:07:39.197348Z",
     "shell.execute_reply.started": "2025-10-24T14:07:38.820739Z"
    },
    "trusted": true
   },
   "outputs": [
    {
     "data": {
      "text/plain": [
       "array([  5,  12,  15,  16,  20,  25,  30,  35,  40,  45,  50,  75, 100])"
      ]
     },
     "execution_count": 2,
     "metadata": {},
     "output_type": "execute_result"
    }
   ],
   "source": [
    "test = pd.read_csv(\"/kaggle/input/CayleyPy-pancake/test.csv\")\n",
    "test[\"n\"].unique()"
   ]
  },
  {
   "cell_type": "code",
   "execution_count": 3,
   "metadata": {
    "execution": {
     "iopub.execute_input": "2025-10-24T14:07:39.202586Z",
     "iopub.status.busy": "2025-10-24T14:07:39.201940Z",
     "iopub.status.idle": "2025-10-24T14:07:39.208885Z",
     "shell.execute_reply": "2025-10-24T14:07:39.208008Z",
     "shell.execute_reply.started": "2025-10-24T14:07:39.202562Z"
    },
    "trusted": true
   },
   "outputs": [],
   "source": [
    "def pancake_sort_path(perm: list[int]) -> list[str]:\n",
    "    \"\"\"Return a sequence of prefix reversals that sorts `perm` to the identity permutation.\"\"\"\n",
    "    arr = list(perm)\n",
    "    n = len(arr)\n",
    "    moves: list[str] = []\n",
    "\n",
    "    for target in range(n, 1, -1):\n",
    "        desired_value = target - 1\n",
    "        idx = arr.index(desired_value)\n",
    "\n",
    "        if idx == target - 1:\n",
    "            continue  # already in place\n",
    "\n",
    "        if idx != 0:\n",
    "            moves.append(f'R{idx + 1}')\n",
    "            arr[: idx + 1] = reversed(arr[: idx + 1])\n",
    "\n",
    "        moves.append(f'R{target}')\n",
    "        arr[:target] = reversed(arr[:target])\n",
    "\n",
    "    return moves"
   ]
  },
  {
   "cell_type": "code",
   "execution_count": null,
   "metadata": {
    "execution": {
     "iopub.execute_input": "2025-10-24T14:07:39.210232Z",
     "iopub.status.busy": "2025-10-24T14:07:39.209808Z",
     "iopub.status.idle": "2025-10-24T14:07:43.208238Z",
     "shell.execute_reply": "2025-10-24T14:07:43.207021Z",
     "shell.execute_reply.started": "2025-10-24T14:07:39.210192Z"
    },
    "trusted": true
   },
   "outputs": [],
   "source": [
    "class StateScorer(nn.Module):\n",
    "    def __init__(self, n_pancakes: int, hidden_dim: int):\n",
    "        super().__init__()\n",
    "        self.n_pancakes = n_pancakes\n",
    "        self.net = nn.Sequential(nn.Linear(n_pancakes, hidden_dim), nn.LeakyReLU(), nn.Linear(hidden_dim, 1))\n",
    "\n",
    "    def forward(self, x):\n",
    "        return self.net(2*x.float() / (self.n_pancakes - 1) - 1).squeeze(-1)"
   ]
  },
  {
   "cell_type": "code",
   "execution_count": null,
   "metadata": {
    "execution": {
     "iopub.execute_input": "2025-10-24T14:07:43.209798Z",
     "iopub.status.busy": "2025-10-24T14:07:43.209368Z",
     "iopub.status.idle": "2025-10-24T14:07:43.215552Z",
     "shell.execute_reply": "2025-10-24T14:07:43.214434Z",
     "shell.execute_reply.started": "2025-10-24T14:07:43.209774Z"
    },
    "trusted": true
   },
   "outputs": [],
   "source": [
    "def seed_everything(seed):\n",
    "    np.random.seed(seed)\n",
    "    random.seed(seed)\n",
    "    torch.manual_seed(seed)\n",
    "    torch.use_deterministic_algorithms(True)"
   ]
  },
  {
   "cell_type": "code",
   "execution_count": null,
   "metadata": {
    "execution": {
     "iopub.execute_input": "2025-10-24T14:40:22.793941Z",
     "iopub.status.busy": "2025-10-24T14:40:22.793653Z",
     "iopub.status.idle": "2025-10-24T14:40:22.802315Z",
     "shell.execute_reply": "2025-10-24T14:40:22.801221Z",
     "shell.execute_reply.started": "2025-10-24T14:40:22.793920Z"
    },
    "trusted": true
   },
   "outputs": [],
   "source": [
    "def train_predictor(n, graph=None, width=1000, length=5, n_dim=100, batch_size=16, epochs=8, random_seed=42):\n",
    "    seed_everything(random_seed)\n",
    "    if graph is None:\n",
    "        graph = CayleyGraph(PermutationGroups.pancake(n))\n",
    "    rwg = RandomWalksGenerator(graph)\n",
    "    states, distances = rwg.generate(width=width, length=length, mode=\"classic\")\n",
    "    train_dataset = TensorDataset(states.float(), distances.float())\n",
    "    train_dataloader = DataLoader(train_dataset, batch_size=batch_size, shuffle=True)\n",
    "        \n",
    "    predictor = StateScorer(n, n_dim)\n",
    "    predictor.train()\n",
    "\n",
    "    optimizator = torch.optim.AdamW(predictor.parameters(), lr=3e-4)\n",
    "    loss_fn = nn.MSELoss()\n",
    "\n",
    "    for _ in range(epochs):\n",
    "        for states, dist in tqdm(train_dataloader):\n",
    "            optimizator.zero_grad()\n",
    "            pred_dist = predictor(states)\n",
    "            loss = loss_fn(pred_dist, dist)\n",
    "            loss.backward()\n",
    "            optimizator.step()\n",
    "\n",
    "    predictor.eval()\n",
    "    return predictor"
   ]
  },
  {
   "cell_type": "markdown",
   "metadata": {},
   "source": [
    "# Prediction"
   ]
  },
  {
   "cell_type": "code",
   "execution_count": null,
   "metadata": {
    "execution": {
     "iopub.execute_input": "2025-10-24T14:41:20.837749Z",
     "iopub.status.busy": "2025-10-24T14:41:20.837435Z",
     "iopub.status.idle": "2025-10-24T14:56:38.189808Z",
     "shell.execute_reply": "2025-10-24T14:56:38.188874Z",
     "shell.execute_reply.started": "2025-10-24T14:41:20.837726Z"
    },
    "trusted": true
   },
   "outputs": [
    {
     "name": "stderr",
     "output_type": "stream",
     "text": [
      "100%|██████████| 125/125 [00:00<00:00, 658.20it/s]\n",
      "100%|██████████| 125/125 [00:00<00:00, 676.80it/s]\n",
      "100%|██████████| 125/125 [00:00<00:00, 670.13it/s]\n",
      "100%|██████████| 125/125 [00:00<00:00, 662.92it/s]\n",
      "100%|██████████| 713/713 [00:01<00:00, 671.87it/s]\n",
      "100%|██████████| 713/713 [00:01<00:00, 672.34it/s]\n",
      "100%|██████████| 713/713 [00:01<00:00, 647.28it/s]\n",
      "100%|██████████| 713/713 [00:01<00:00, 675.47it/s]\n",
      "100%|██████████| 1125/1125 [00:01<00:00, 676.58it/s]\n",
      "100%|██████████| 1125/1125 [00:01<00:00, 679.75it/s]\n",
      "100%|██████████| 1125/1125 [00:01<00:00, 667.46it/s]\n",
      "100%|██████████| 1125/1125 [00:01<00:00, 654.57it/s]\n",
      "100%|██████████| 1250/1250 [00:01<00:00, 657.41it/s]\n",
      "100%|██████████| 1250/1250 [00:01<00:00, 670.92it/s]\n",
      "100%|██████████| 1250/1250 [00:01<00:00, 673.74it/s]\n",
      "100%|██████████| 1250/1250 [00:01<00:00, 666.15it/s]\n",
      "100%|██████████| 2000/2000 [00:02<00:00, 667.30it/s]\n",
      "100%|██████████| 2000/2000 [00:03<00:00, 658.49it/s]\n",
      "100%|██████████| 2000/2000 [00:02<00:00, 677.35it/s]\n",
      "100%|██████████| 2000/2000 [00:02<00:00, 675.26it/s]\n",
      "100%|██████████| 3125/3125 [00:04<00:00, 650.51it/s]\n",
      "100%|██████████| 3125/3125 [00:04<00:00, 652.55it/s]\n",
      "100%|██████████| 3125/3125 [00:04<00:00, 648.47it/s]\n",
      "100%|██████████| 3125/3125 [00:04<00:00, 655.66it/s]\n",
      "100%|██████████| 4500/4500 [00:06<00:00, 644.09it/s]\n",
      "100%|██████████| 4500/4500 [00:06<00:00, 649.14it/s]\n",
      "100%|██████████| 4500/4500 [00:07<00:00, 642.01it/s]\n",
      "100%|██████████| 4500/4500 [00:06<00:00, 650.18it/s]\n",
      "100%|██████████| 6125/6125 [00:09<00:00, 645.17it/s]\n",
      "100%|██████████| 6125/6125 [00:09<00:00, 645.45it/s]\n",
      "100%|██████████| 6125/6125 [00:09<00:00, 645.53it/s]\n",
      "100%|██████████| 6125/6125 [00:09<00:00, 637.39it/s]\n",
      "100%|██████████| 8000/8000 [00:12<00:00, 638.14it/s]\n",
      "100%|██████████| 8000/8000 [00:12<00:00, 640.79it/s]\n",
      "100%|██████████| 8000/8000 [00:12<00:00, 640.21it/s]\n",
      "100%|██████████| 8000/8000 [00:12<00:00, 634.07it/s]\n",
      "100%|██████████| 10125/10125 [00:15<00:00, 638.97it/s]\n",
      "100%|██████████| 10125/10125 [00:15<00:00, 635.79it/s]\n",
      "100%|██████████| 10125/10125 [00:15<00:00, 636.39it/s]\n",
      "100%|██████████| 10125/10125 [00:15<00:00, 633.64it/s]\n",
      "100%|██████████| 12500/12500 [00:19<00:00, 631.37it/s]\n",
      "100%|██████████| 12500/12500 [00:19<00:00, 637.08it/s]\n",
      "100%|██████████| 12500/12500 [00:19<00:00, 627.20it/s]\n",
      "100%|██████████| 12500/12500 [00:19<00:00, 629.20it/s]\n",
      "100%|██████████| 28125/28125 [00:44<00:00, 629.61it/s]\n",
      "100%|██████████| 28125/28125 [00:44<00:00, 625.74it/s]\n",
      "100%|██████████| 28125/28125 [00:45<00:00, 624.11it/s]\n",
      "100%|██████████| 28125/28125 [00:45<00:00, 623.41it/s]\n",
      "100%|██████████| 50000/50000 [01:21<00:00, 613.12it/s]\n",
      "100%|██████████| 50000/50000 [01:21<00:00, 613.09it/s]\n",
      "100%|██████████| 50000/50000 [01:21<00:00, 616.61it/s]\n",
      "100%|██████████| 50000/50000 [01:21<00:00, 612.08it/s]\n"
     ]
    }
   ],
   "source": [
    "graphs = {}\n",
    "models = {}\n",
    "for n_s in test[\"n\"].unique():\n",
    "    graphs[n_s] = CayleyGraph(PermutationGroups.pancake(n_s))\n",
    "    models[n_s] = Predictor(graphs[n_s], train_predictor(n_s, graph=graphs[n_s], width=n_s*100, length=int(n_s*1.6), batch_size=32, epochs=4))"
   ]
  },
  {
   "cell_type": "code",
   "execution_count": 9,
   "metadata": {
    "execution": {
     "iopub.execute_input": "2025-10-24T14:24:21.185259Z",
     "iopub.status.busy": "2025-10-24T14:24:21.184635Z",
     "iopub.status.idle": "2025-10-24T14:24:21.191200Z",
     "shell.execute_reply": "2025-10-24T14:24:21.190311Z",
     "shell.execute_reply.started": "2025-10-24T14:24:21.185236Z"
    },
    "trusted": true
   },
   "outputs": [],
   "source": [
    "def pancake_sort_path(perm: list[int]) -> list[str]:\n",
    "    \"\"\"Return a sequence of prefix reversals that sorts `perm` to the identity permutation.\"\"\"\n",
    "    arr = list(perm)\n",
    "    n = len(arr)\n",
    "    moves: list[str] = []\n",
    "\n",
    "    for target in range(n, 1, -1):\n",
    "        desired_value = target - 1\n",
    "        idx = arr.index(desired_value)\n",
    "\n",
    "        if idx == target - 1:\n",
    "            continue  # already in place\n",
    "\n",
    "        if idx != 0:\n",
    "            moves.append(f'R{idx + 1}')\n",
    "            arr[: idx + 1] = reversed(arr[: idx + 1])\n",
    "\n",
    "        moves.append(f'R{target}')\n",
    "        arr[:target] = reversed(arr[:target])\n",
    "\n",
    "    return moves"
   ]
  },
  {
   "cell_type": "code",
   "execution_count": null,
   "metadata": {
    "execution": {
     "iopub.execute_input": "2025-10-24T14:24:21.192396Z",
     "iopub.status.busy": "2025-10-24T14:24:21.192111Z",
     "iopub.status.idle": "2025-10-24T14:24:21.665387Z",
     "shell.execute_reply": "2025-10-24T14:24:21.664462Z",
     "shell.execute_reply.started": "2025-10-24T14:24:21.192377Z"
    },
    "trusted": true
   },
   "outputs": [
    {
     "name": "stderr",
     "output_type": "stream",
     "text": [
      "100%|██████████| 2405/2405 [00:00<00:00, 5771.70it/s] \n"
     ]
    }
   ],
   "source": [
    "heurestic_paths = []\n",
    "for _, row in tqdm(test.iterrows(), total=len(test)):\n",
    "    perms = np.array(row[\"permutation\"].split(\",\")).astype(int)\n",
    "    moves = pancake_sort_path(perms)\n",
    "    heurestic_paths.append(\".\".join(moves))"
   ]
  },
  {
   "cell_type": "code",
   "execution_count": 31,
   "metadata": {
    "execution": {
     "iopub.execute_input": "2025-10-24T16:20:42.049866Z",
     "iopub.status.busy": "2025-10-24T16:20:42.049501Z",
     "iopub.status.idle": "2025-10-24T16:26:58.552347Z",
     "shell.execute_reply": "2025-10-24T16:26:58.551324Z",
     "shell.execute_reply.started": "2025-10-24T16:20:42.049831Z"
    },
    "trusted": true
   },
   "outputs": [
    {
     "name": "stderr",
     "output_type": "stream",
     "text": [
      "100%|██████████| 2405/2405 [06:16<00:00,  6.39it/s]\n"
     ]
    }
   ],
   "source": [
    "pred_paths = []\n",
    "\n",
    "for i, row in tqdm(test.iterrows(), total=len(test)):\n",
    "    n = row[\"n\"]\n",
    "    if n >= 20:\n",
    "        pred_paths.append(heurestic_paths[i])\n",
    "        continue\n",
    "    heurestic_length = heurestic_paths[i].count(\".\") + 1\n",
    "    perms = np.array(row[\"permutation\"].split(\",\")).astype(int)\n",
    "    graphs[n].free_memory()\n",
    "    result = graphs[n].beam_search(start_state=perms, beam_width=1000, max_steps=heurestic_length, predictor=models[n], return_path=True)\n",
    "    if result.path_found and len(result.path) < heurestic_length:\n",
    "        pred_paths.append(\".\".join([f\"R{gen_index+2}\" for gen_index in result.path]))\n",
    "    else:\n",
    "        pred_paths.append(heurestic_paths[i])"
   ]
  },
  {
   "cell_type": "code",
   "execution_count": 32,
   "metadata": {
    "execution": {
     "iopub.execute_input": "2025-10-24T17:00:26.732893Z",
     "iopub.status.busy": "2025-10-24T17:00:26.726059Z",
     "iopub.status.idle": "2025-10-24T17:00:26.902579Z",
     "shell.execute_reply": "2025-10-24T17:00:26.901140Z",
     "shell.execute_reply.started": "2025-10-24T17:00:26.732783Z"
    },
    "trusted": true
   },
   "outputs": [],
   "source": [
    "submissions = pd.read_csv(\"/kaggle/input/CayleyPy-pancake/sample_submission.csv\")\n",
    "submissions[\"solution\"] = pred_paths\n",
    "submissions.to_csv(\"nn_submission.csv\")"
   ]
  }
 ],
 "metadata": {
  "kaggle": {
   "accelerator": "none",
   "dataSources": [
    {
     "databundleVersionId": 13789744,
     "sourceId": 115576,
     "sourceType": "competition"
    }
   ],
   "dockerImageVersionId": 31153,
   "isGpuEnabled": false,
   "isInternetEnabled": true,
   "language": "python",
   "sourceType": "notebook"
  },
  "kernelspec": {
   "display_name": "Python 3",
   "language": "python",
   "name": "python3"
  },
  "language_info": {
   "codemirror_mode": {
    "name": "ipython",
    "version": 3
   },
   "file_extension": ".py",
   "mimetype": "text/x-python",
   "name": "python",
   "nbconvert_exporter": "python",
   "pygments_lexer": "ipython3",
   "version": "3.11.13"
  }
 },
 "nbformat": 4,
 "nbformat_minor": 4
}
